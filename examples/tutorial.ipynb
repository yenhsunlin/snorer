{
 "cells": [
  {
   "cell_type": "markdown",
   "id": "a1f9651f-c305-47e6-aaec-deb4bb871859",
   "metadata": {},
   "source": [
    "# Tutorial for `snorer`\n",
    "\n",
    "\n",
    "In this tutorial, I'll briefly go through main classes and functions that are used to evaluate the time-of-flight signature carried by supernova-neutrino-boosted dark matter (SN$\\nu$ BDM) due to SN in our Milky Way (MW), Large Magellanic Cloud (LMC) or any in the distant galaxy.\n",
    "\n",
    "\n",
    "We begin with importing `snorer` and other useful packages in this tutorial. Note that `multiprocessing` is not compatible with jupyter on Mac/Windows systems.\n",
    "One can alternatively use `ipyparallel` to manifest multiprocessing feature on jupyter. This task is relegated to the reader."
   ]
  },
  {
   "cell_type": "code",
   "execution_count": 2,
   "id": "a92edf14-7762-45ef-b7be-531c02662175",
   "metadata": {},
   "outputs": [
    {
     "name": "stdout",
     "output_type": "stream",
     "text": [
      "Current version of snorer: 0.0.0\n"
     ]
    }
   ],
   "source": [
    "# import complete modules from packages\n",
    "import multiprocessing as mp\n",
    "import numpy as np\n",
    "\n",
    "import snorer\n",
    "print(f'Current version of snorer: {snorer.__version__}')\n",
    "\n",
    "import matplotlib.pyplot as plt\n",
    "\n",
    "# import only necessary modules from packages\n",
    "from functools import partial\n",
    "\n",
    "# uncomment this if you have a Hi-DPI monitor and wish to have a better figure resolution\n",
    "#%matplotlib inline\n",
    "#%config InlineBackend.figure_format='retina'"
   ]
  },
  {
   "cell_type": "markdown",
   "id": "de929c09-b9f0-4431-be69-c5e28742dc7f",
   "metadata": {},
   "source": [
    "## The Useful Constants\n",
    "\n",
    "We introduce the instance `constant` which contains various useful attributes that are frequently used.\n",
    "For example the electron mass $m_e$ in MeV can be retrieved by"
   ]
  },
  {
   "cell_type": "code",
   "execution_count": 4,
   "id": "abd1390c-a33d-4786-8120-c4b93ba62437",
   "metadata": {},
   "outputs": [
    {
     "data": {
      "text/plain": [
       "0.511"
      ]
     },
     "execution_count": 4,
     "metadata": {},
     "output_type": "execute_result"
    }
   ],
   "source": [
    "snorer.constant.me"
   ]
  },
  {
   "cell_type": "markdown",
   "id": "edad8b9f-27c9-46f6-afae-a182b3d14338",
   "metadata": {},
   "source": [
    "Most useful attributes:\n",
    "\n",
    "- **perMeV2cm** : Convert MeV<sup>−1</sup> to cm\n",
    "- **year2Seconds** : Convert 1 year to seconds\n",
    "- **erg2MeV** : Convert 1 erg to MeV\n",
    "- **kpc2cm** : Convert 1 kpc to cm\n",
    "- **me** : Electron mass, MeV\n",
    "- **mn** : Neutron mass, MeV\n",
    "- **mp** : Proton mass, MeV\n",
    "- **Msun** : Solar mass $M_\\odot$, MeV\n",
    "- **Msun_kg** : Solar mass $M_\\odot$, kg\n",
    "- **Mmw** : MW stellar mass, $M_\\odot$\n",
    "- **M_SgrA** : The supermassive black hole (SMBH) mass of Sagittarius A*, $M_\\odot$\n",
    "- **Mhalo** : MW DM halo mass, $M_\\odot$\n",
    "- **c** : Speed of light, cm s<sup>−1</sup>\n",
    "- **H0** : Hubble constant, km s<sup>−1</sup> Mpc<sup>−1</sup>\n",
    "- **G** : Gravitational constant, ${\\rm pc}~M_\\odot^{-1}~{\\rm (km/s)^2}$\n",
    "- **SgrA_coord** : Sagittarius A* coordinate in ICRS J2000.0 including distance in kpc, `[RA, DEC, dist]`\n",
    "- **LMC_coord** : LMC coordinate in ICRS J2000.0 including distance in kpc, `[RA, DEC, dist]`\n",
    "- **SN1987a_coord** : SN1987a coordinate in ICRS J2000.0 including distance in kpc, `[RA, DEC, dist]`"
   ]
  },
  {
   "cell_type": "markdown",
   "id": "cae9c809-2d5d-4793-9a8a-5ab83ff7c6ca",
   "metadata": {},
   "source": [
    "## The Supernova Energy Spectrum\n",
    "\n",
    "The SN$\\nu$ flux is given by\n",
    "$$\n",
    "\\frac{d\\phi_\\nu}{dE_\\nu}=\\sum_{i}\\frac{L_{\\nu_{i}}}{4\\pi \\ell^{2}\\langle E_{\\nu_{i}}\\rangle}E_{\\nu}^{2}f_{\\nu_{i}}(E_{\\nu})\n",
    "$$\n",
    "where $f_\\nu (E_\\nu)$ is the Fermi-Dirac distribution for neutrinos.\n",
    "The SN$\\nu$ number density within the shell can be associated with its flux divided by velocity\n",
    "$$\n",
    "\\frac{dn_\\nu}{dE_\\nu} = \\frac{1}{v}\\frac{d\\phi_\\nu}{dE_\\nu}=\\frac{d\\phi_\\nu}{c dE_\\nu}\n",
    "$$\n",
    "where we assumed neutrino is massless and $v=c$, the light speed.\n",
    "\n",
    "### The Useful Functions\n",
    "\n",
    "#### snorer.snNuSpectrum\n",
    "\n",
    "`snorer.snNuSpectrum(Ev,D,D_trunct=3.24e-15,is_density=False)` Obtain the SN$\\nu$ spctrum after propagating a distance $D$\n",
    "\n",
    "Parameters:\n",
    "\n",
    "   - **Ev** : Neutrino energy in MeV, float\n",
    "   - **D** : Distance from the boosted point to the SN in kpc, float\n",
    "   - **D_trucnt** : Truncation point for $D$ to prevent divergence when $D<D_{\\rm trunc}$ in kpc, float\n",
    "   - **is_density** : Should the output be flux or number density, bool\n",
    "\n",
    "\n",
    "Returns:\n",
    "\n",
    "   - **Spectrum** : Flux (MeV<sup>−1</sup> cm<sup>−2</sup> s<sup>−1</sup>) or\n",
    "                number density (MeV<sup>−1</sup> cm<sup>−3</sup>)"
   ]
  },
  {
   "cell_type": "markdown",
   "id": "6583bb0f-e9ad-436c-baa0-02eb88c33278",
   "metadata": {},
   "source": [
    "## The DM Halo Profile\n",
    "\n",
    "We parametrize the DM halo density profile by\n",
    "$$\n",
    "    \\rho_\\chi(r)=\\frac{\\rho_s}{\\frac{r}{r_s}(1+ \\frac{r}{r_s})^n}\n",
    "$$\n",
    "where $\\rho_s$, $r_s$ and $n$ are the characteristic density, radius and slope of the profile. For number density, it can be obetained by\n",
    "$$\n",
    "n_\\chi(r,m_\\chi) = \\frac{\\rho_\\chi(r)}{m_\\chi}.\n",
    "$$\n",
    "Furthermore, as suggested in *Phys. Rev. Lett.* **83**, 1719 (1999), DM can form a spike due to SMBH's gravitational pull in the galactic center.\n",
    "We follow the parametrization for DM profile with spike in the inner galactic region in *JCAP* **06**, 004 (2023) to construct this phenomenon.\n",
    "\n"
   ]
  },
  {
   "cell_type": "markdown",
   "id": "5f095b1e-8314-4d92-b1b0-f5896a4dd7b5",
   "metadata": {},
   "source": [
    "### The Useful Functions\n",
    "\n",
    "#### snorer.rhox\n",
    "`snore.rhox(r,/,rhos,rs,n)` Obtain DM halo denisty $\\rho_\\chi$ at $r$\n",
    "\n",
    "Parameters:\n",
    "\n",
    "   - **r** : The distance to GC in kpc, float\n",
    "   - **rhos** : The characteristic density in MeV cm<sup>−3</sup>, float\n",
    "   - **rs** : The characteristic radius in kpc, float\n",
    "   - **n** : The slope of the profile, float\n",
    "\n",
    "\n",
    "Returns:\n",
    "\n",
    "   - $\\rho_\\chi(r)$ : DM halo density in MeV cm<sup>−3</sup>, float\n",
    "\n",
    "#### snorer.dmNumberDensity\n",
    "\n",
    "`snorer.dmNumberDensity(r,mx,/,is_spike=True,sigv=None,tBH=1e10,profile='MW',alpha='3/2',**kwargs)` Obtain $n_\\chi$ at $r$ for a given $m_\\chi$\n",
    "\n",
    "Parameters:\n",
    "   \n",
    "   - **r** : The distance to GC in kpc, float\n",
    "   - **mx** : The DM mass in MeV, float\n",
    "   - **is_spike** : Turn/off spike feature, bool\n",
    "   - **sigv** : DM annihilation cross section $\\langle\\sigma v\\rangle$ in the unit of $3\\times 10^{-26}~{\\rm cm^3~s^{-1}}$, float or **None** indicating no annihilation\n",
    "   - **tBH** : Age of the SMBH, years\n",
    "   - **profile** : Which galaxy user's looking into, string, **'MW'** or **'LMC'**\n",
    "   - **alpha** : Slope of the spike profile, string, **'3/2'** or **'7/3'**\n",
    "   - **\\*\\*kwargs** : Keyword arguments that will be passed to the class `HaloSpike`\n",
    "\n",
    "Returns:\n",
    "\n",
    "   - $n_\\chi(r)$ :  DM halo number density in cm<sup>−3</sup>, float\n",
    "\n",
    "### Examples"
   ]
  },
  {
   "cell_type": "code",
   "execution_count": 14,
   "id": "49c43307-e0cc-415c-954a-c0340b2cd2e8",
   "metadata": {},
   "outputs": [
    {
     "data": {
      "image/png": "[encoded data removed]",
      "text/plain": [
       "<Figure size 640x480 with 1 Axes>"
      ]
     },
     "metadata": {},
     "output_type": "display_data"
    }
   ],
   "source": [
    "# Display the LMC DM halo number density \n",
    "mx = 1\n",
    "rList = np.logspace(-7,2,50)\n",
    "nxLMC_sigv0 = [snorer.dmNumberDensity(r,mx,profile='LMC') for r in rList]\n",
    "nxLMC_sigv3 = [snorer.dmNumberDensity(r,mx,sigv=3,profile='LMC') for r in rList]\n",
    "nxLMC_nospike = [snorer.dmNumberDensity(r,mx,is_spike=False,profile='LMC') for r in rList]  # sigv has no effect whatever value you set \n",
    "\n",
    "#　Make the plot\n",
    "plt.plot(rList,nxLMC_sigv0,color='C0',label=r'$\\langle \\sigma v\\rangle$=0')\n",
    "plt.plot(rList,nxLMC_sigv3,'--',color='C0',label=r'$\\langle \\sigma v\\rangle=3\\times 10^{-26}~{\\rm cm^3\\,s^{-1}}$')\n",
    "plt.plot(rList,nxLMC_nospike,'-.',color='C0',label='w/o spike')\n",
    "plt.xscale('log')\n",
    "plt.yscale('log')\n",
    "plt.legend()\n",
    "plt.title(r'$m_\\chi = 1$ MeV')\n",
    "plt.xlabel(r'$r$ [kpc]')\n",
    "plt.ylabel(r'$n_\\chi^{\\rm LMC}(r)~[{\\rm cm}^{-3}]$')\n",
    "plt.show()"
   ]
  },
  {
   "cell_type": "markdown",
   "id": "940c0831-1910-4e24-b29e-b79fd1fdda9c",
   "metadata": {},
   "source": [
    "### The Classes\n",
    "\n",
    "#### snorer.HaloSpike\n",
    "\n",
    "*class*  `snorer.HaloSpike(mBH,tBH,alpha)` Class for establishing DM halo number density instance with spike due to SMBH in the galactic center.\n",
    "\n",
    "Parameters:\n",
    "\n",
    " - **mBH** : SMBH mass, $M_\\odot$\n",
    " - **tBH** : SMBH age, years\n",
    " - **alpha** : Slope of the spike profile\n",
    "\n",
    "*Callable* `__call__(r,mx,/,sigv,rhos,rs,n)`\n",
    "\n",
    "Parameters:\n",
    "\n",
    " - **r** : The distance to GC in kpc, float\n",
    " - **mx** : DM mass in MeV, float\n",
    " - **sigv** :  DM annihilation cross section $\\langle\\sigma v\\rangle$ in the unit of $3\\times 10^{-26}~{\\rm cm^3~s^{-1}}$, float or **None** indicating no annihilation\n",
    " - **rhos** : The characteristic density in MeV cm<sup>−3</sup>, float\n",
    " - **rs** :  The characteristic radius in kpc, float\n",
    " - **n** : The slope of the profile, float\n",
    "\n",
    "\n",
    "Returns:\n",
    "\n",
    "   - $n_\\chi(r)$ :  DM halo number density with spike feature for $m_\\chi$ in cm<sup>−3</sup>, float"
   ]
  },
  {
   "cell_type": "markdown",
   "id": "b679ce3a-0550-4dce-97ea-df90ae261f52",
   "metadata": {},
   "source": [
    "### The Astrophysical Relations\n",
    "\n",
    "#### $M-\\sigma$ relation\n",
    "\n",
    "The stellar velocity dispersion $\\sigma_star$ in the galactic bulge under the influence of SMBH with mass $M_{\\rm BH}$\n",
    "$$\n",
    "\\log_{10}\\left(\\frac{M_{\\rm BH}}{M_\\odot}\\right) = 8.29+5.12 \\log_{10} \\left( \\frac{\\sigma_\\star}{200~{\\rm km~s^{-1}}}\\right)\n",
    "$$\n",
    "See *Nature* **480**, 215 (2011).\n",
    "\n",
    "#### SMBH Influence Radius\n",
    "\n",
    "The SMBH influence radius $r_h$ is defined by\n",
    "$$\n",
    "r_h = \\frac{G M_{\\rm BH}}{\\sigma_\\star^2}\n",
    "$$\n",
    "\n",
    "#### Schwarzschild Radius\n",
    "\n",
    "The Schwarzschild radius $R_S$ of a BH is defined by\n",
    "$$\n",
    "R_S = \\frac{2G M_{\\rm BH}}{c^2}\n",
    "$$"
   ]
  },
  {
   "cell_type": "markdown",
   "id": "d9cc0447-521f-4f0b-bc1b-c789ccb535fb",
   "metadata": {},
   "source": [
    "### The Useful Functions\n",
    "\n",
    "#### snore.M_sigma\n",
    "`snore.M_sigma(mBH)` Obtain $\\sigma_\\star$ for BH mass $M_{\\rm BH}$\n",
    "\n",
    "Parameters:\n",
    "\n",
    "   - **mBH** : The BH mass in $M_\\odot$, float\n",
    "\n",
    "Returns:\n",
    "\n",
    "   - $\\sigma_\\star$ : stellar velocity dispersion in km/s, float\n",
    "\n",
    "#### snore.radiusInfluence\n",
    "\n",
    "`snorer.radiusInfluence(mBH)` Obtain $r_h$ for BH mass $M_{\\rm BH}$\n",
    "\n",
    "Parameters:\n",
    "   \n",
    "   - **mBH** : The BH mass in $M_\\odot$, float\n",
    "\n",
    "Returns:\n",
    "\n",
    "   - $r_h$ :  The influence radius in kpc, float\n",
    "\n",
    "#### snore.radiusSchwarzschild\n",
    "\n",
    "`snorer.radiusSchwarzschild(mBH)` Obtain $R_S$ for BH mass $M_{\\rm BH}$\n",
    "\n",
    "Parameters:\n",
    "   \n",
    "   - **mBH** : The BH mass in $M_\\odot$, float\n",
    "\n",
    "Returns:\n",
    "\n",
    "   - $R_S$ :  The Schwarzschild radius in kpc, float"
   ]
  },
  {
   "cell_type": "code",
   "execution_count": null,
   "id": "a13c55fc-19e8-4a09-b307-6b122b59caf5",
   "metadata": {},
   "outputs": [],
   "source": []
  }
 ],
 "metadata": {
  "kernelspec": {
   "display_name": "Python 3 (ipykernel)",
   "language": "python",
   "name": "python3"
  },
  "language_info": {
   "codemirror_mode": {
    "name": "ipython",
    "version": 3
   },
   "file_extension": ".py",
   "mimetype": "text/x-python",
   "name": "python",
   "nbconvert_exporter": "python",
   "pygments_lexer": "ipython3",
   "version": "3.11.7"
  }
 },
 "nbformat": 4,
 "nbformat_minor": 5
}
