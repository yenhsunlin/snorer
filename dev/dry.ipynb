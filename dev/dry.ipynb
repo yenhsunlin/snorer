{
 "cells": [
  {
   "cell_type": "code",
   "execution_count": 1,
   "id": "08d7d4b5-205e-4219-be29-667f41036145",
   "metadata": {},
   "outputs": [],
   "source": [
    "import snorer as sn"
   ]
  },
  {
   "cell_type": "code",
   "execution_count": 3,
   "id": "8c1562c4-c1a9-486c-bd7b-8f89523bf374",
   "metadata": {},
   "outputs": [
    {
     "data": {
      "text/plain": [
       "1.8597613972459343e-11"
      ]
     },
     "execution_count": 3,
     "metadata": {},
     "output_type": "execute_result"
    }
   ],
   "source": [
    "sn.event(mx=5,Rs=7.0,beta=0.01,is_spike=True,mBH=5e7)"
   ]
  },
  {
   "cell_type": "code",
   "execution_count": 5,
   "id": "b0a343c1-e4fb-4faf-abfc-769b66e9195a",
   "metadata": {},
   "outputs": [
    {
     "data": {
      "text/plain": [
       "6.259393803312154e-12"
      ]
     },
     "execution_count": 5,
     "metadata": {},
     "output_type": "execute_result"
    }
   ],
   "source": [
    "sn.event(mx=5,Rs=7.0,beta=0.01,is_spike=True,mBH=5e7,rhos=11)"
   ]
  },
  {
   "cell_type": "code",
   "execution_count": 43,
   "id": "d4858047-be13-439c-b61e-9f946725a7e9",
   "metadata": {},
   "outputs": [
    {
     "data": {
      "text/plain": [
       "0.004370525298281036"
      ]
     },
     "execution_count": 43,
     "metadata": {},
     "output_type": "execute_result"
    }
   ],
   "source": [
    "sn.event(mx=1e-4,Rs=8.5,beta=0.001,is_spike=True,mBH=5e7,rhos=11,alpha='7/3',neval=50000)"
   ]
  },
  {
   "cell_type": "code",
   "execution_count": 49,
   "id": "d0c9b237-3864-4734-876f-bdf259ec9537",
   "metadata": {},
   "outputs": [
    {
     "data": {
      "text/plain": [
       "0.029803628380326838"
      ]
     },
     "execution_count": 49,
     "metadata": {},
     "output_type": "execute_result"
    }
   ],
   "source": [
    "sn.event(mx=1e-4,Rs=8.5,beta=0.001,is_spike=True,mBH=5e7,rhos=11,neval=50000)"
   ]
  },
  {
   "cell_type": "code",
   "execution_count": 41,
   "id": "663b2bb0-4e45-427f-b1d7-51c323205fd6",
   "metadata": {},
   "outputs": [
    {
     "data": {
      "text/plain": [
       "10000"
      ]
     },
     "execution_count": 41,
     "metadata": {},
     "output_type": "execute_result"
    }
   ],
   "source": [
    "sn.params.vegas.neval"
   ]
  },
  {
   "cell_type": "code",
   "execution_count": null,
   "id": "70833662-2a15-4e1c-8560-024a86c5472c",
   "metadata": {},
   "outputs": [],
   "source": []
  }
 ],
 "metadata": {
  "kernelspec": {
   "display_name": "Python 3 (ipykernel)",
   "language": "python",
   "name": "python3"
  },
  "language_info": {
   "codemirror_mode": {
    "name": "ipython",
    "version": 3
   },
   "file_extension": ".py",
   "mimetype": "text/x-python",
   "name": "python",
   "nbconvert_exporter": "python",
   "pygments_lexer": "ipython3",
   "version": "3.12.2"
  }
 },
 "nbformat": 4,
 "nbformat_minor": 5
}
